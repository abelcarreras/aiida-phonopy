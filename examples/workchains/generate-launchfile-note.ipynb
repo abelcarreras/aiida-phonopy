{
 "cells": [
  {
   "cell_type": "code",
   "execution_count": 15,
   "metadata": {},
   "outputs": [
    {
     "name": "stdout",
     "output_type": "stream",
     "text": [
      " W S\n",
      "\n",
      "1.0\n",
      "0\n",
      "1\n",
      "2\n"
     ]
    }
   ],
   "source": [
    "\n",
    "\n",
    "with open('POSCAR', 'rt', encoding='utf-8') as f1:\n",
    "    headline=f1.readline()\n",
    "    print(headline)\n",
    "#     scale = float(f1.readline().split()[0])\n",
    "    scale = float(f1.readline().split()[0])\n",
    "    print(scale)\n",
    "    \n",
    "    \n",
    "    a = []\n",
    "    for ii in range(3):\n",
    "        s = f1.readline().split()\n",
    "        floatvect = float(s[0]), float(s[1]), float(s[2])\n",
    "        a.append(floatvect)"
   ]
  },
  {
   "cell_type": "code",
   "execution_count": null,
   "metadata": {},
   "outputs": [],
   "source": []
  }
 ],
 "metadata": {
  "kernelspec": {
   "display_name": "Python 3",
   "language": "python",
   "name": "python3"
  },
  "language_info": {
   "codemirror_mode": {
    "name": "ipython",
    "version": 3
   },
   "file_extension": ".py",
   "mimetype": "text/x-python",
   "name": "python",
   "nbconvert_exporter": "python",
   "pygments_lexer": "ipython3",
   "version": "3.6.3"
  }
 },
 "nbformat": 4,
 "nbformat_minor": 1
}
